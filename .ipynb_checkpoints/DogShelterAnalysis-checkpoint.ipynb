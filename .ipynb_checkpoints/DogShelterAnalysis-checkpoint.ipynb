{
 "cells": [
  {
   "cell_type": "markdown",
   "metadata": {},
   "source": [
    "<h4 align=\"right\"> DATS 6103 - Project 2 - Kun Ei Kang </h4>\n",
    "\n",
    "<h1 align=\"center\">Data Mining Dog Adoption</h1> \n",
    "<img src=\"petfinder_banner.png\" height=\"80px\"/>"
   ]
  },
  {
   "cell_type": "markdown",
   "metadata": {},
   "source": [
    "### Objective \n",
    "\n",
    "Analyze the dog adoption site and commercial puppy site to data-mine and find the patterns and visualize the contrast.\n",
    "Find the responsible dog adoption. "
   ]
  },
  {
   "cell_type": "markdown",
   "metadata": {},
   "source": [
    "### Data Sources\n",
    "\n",
    "* Animal Adoption Site : petfinder.com\n",
    "* Commercial Puppy site: puppyfind.com"
   ]
  },
  {
   "cell_type": "markdown",
   "metadata": {},
   "source": [
    "### Data"
   ]
  },
  {
   "cell_type": "code",
   "execution_count": 6,
   "metadata": {},
   "outputs": [
    {
     "name": "stdout",
     "output_type": "stream",
     "text": [
      "Requirement already satisfied: beautifulsoup4 in /anaconda3/envs/DataMining/lib/python3.6/site-packages (4.8.1)\n",
      "Requirement already satisfied: lxml in /anaconda3/envs/DataMining/lib/python3.6/site-packages (4.4.1)\n",
      "Collecting selenium\n",
      "\u001b[?25l  Downloading https://files.pythonhosted.org/packages/80/d6/4294f0b4bce4de0abf13e17190289f9d0613b0a44e5dd6a7f5ca98459853/selenium-3.141.0-py2.py3-none-any.whl (904kB)\n",
      "\u001b[K     |████████████████████████████████| 911kB 2.6MB/s eta 0:00:01\n",
      "\u001b[?25hRequirement already satisfied: soupsieve>=1.2 in /anaconda3/envs/DataMining/lib/python3.6/site-packages (from beautifulsoup4) (1.9.5)\n",
      "Requirement already satisfied: urllib3 in /anaconda3/envs/DataMining/lib/python3.6/site-packages (from selenium) (1.25.6)\n",
      "Installing collected packages: selenium\n",
      "Successfully installed selenium-3.141.0\n"
     ]
    }
   ],
   "source": [
    "! pip install beautifulsoup4 lxml selenium"
   ]
  },
  {
   "cell_type": "code",
   "execution_count": 2,
   "metadata": {},
   "outputs": [],
   "source": [
    "# https://data.lacity.org/api/views/8cmr-fbcu/rows.csv?accessType=DOWNLOAD\n",
    "\n",
    "shelter_pef_finder=\"https://www.petfinder.com/search/dogs-for-adoption/us/va\"\n",
    "commercial_puppy_site=\"https://www.puppyfind.com/\"\n",
    "\n",
    "# City of New York DOHMH Dog Bite Data  data.cityofnewyork.us\n",
    "dog_bites = \"https://data.cityofnewyork.us/Health/DOHMH-Dog-Bite-Data/rsgh-akpg\"\n",
    "# https://data.cityofnewyork.us/api/views/rsgh-akpg/rows.csv?accessType=DOWNLOAD\n"
   ]
  },
  {
   "cell_type": "code",
   "execution_count": null,
   "metadata": {},
   "outputs": [],
   "source": [
    "import requests\n",
    "from bs4 import BeautifulSoup\n",
    "\n",
    "# Pet Finder Web Scrapping\n",
    "page_num = 1\n",
    "petfinder_url=f\"https://www.petfinder.com/search/dogs-for-adoption/us/va/centreville/?distance=Anywhere&page={page_num}\"\n",
    "\n",
    "# loops all the pages to scrap\n",
    "for i in range(1 to 2): #3158):\n",
    "    r = requests.get(petfinder_url)\n",
    "    soup = BeautifulSoup(r.content, 'lxml')\n",
    "    print(soup.prettify())"
   ]
  },
  {
   "cell_type": "code",
   "execution_count": 37,
   "metadata": {},
   "outputs": [
    {
     "name": "stderr",
     "output_type": "stream",
     "text": [
      "/anaconda3/envs/DataMining/lib/python3.6/site-packages/ipykernel_launcher.py:12: DeprecationWarning: use options instead of chrome_options\n",
      "  if sys.path[0] == '':\n"
     ]
    },
    {
     "name": "stdout",
     "output_type": "stream",
     "text": [
      "processing page 1...\n",
      "40\n",
      "sleep for 10\n",
      "processing page 2...\n",
      "0\n",
      "sleep for 10\n",
      "total pages processed  40\n"
     ]
    }
   ],
   "source": [
    "from selenium import webdriver\n",
    "from selenium.webdriver.chrome.options import Options  \n",
    "from selenium.webdriver.common.keys import Keys\n",
    "from random import randint\n",
    "from time import sleep\n",
    "\n",
    "# setup chrome driver to be headless so it will not show browser. \n",
    "chrome_options = Options()  \n",
    "chrome_options.add_argument(\"--headless\")  \n",
    "prefs = {\"profile.managed_default_content_settings.images\": 2}\n",
    "chrome_options.add_experimental_option(\"prefs\", prefs)\n",
    "chrome_driver = webdriver.Chrome(\"/usr/local/bin/chromedriver\", chrome_options=chrome_options)\n",
    "\n",
    "# Pet Finder Web Scrapping\n",
    "def getPageLinks(driver, page_url):\n",
    "    links = []\n",
    "    driver.get(petfinder_url)\n",
    "    urls = driver.find_elements_by_css_selector(\"a.petCard-link\")\n",
    "    print(len(urls))\n",
    "    for url in urls:\n",
    "        link = url.get_attribute('href')\n",
    "        links.append(link)\n",
    "    return links\n",
    "\n",
    "def getAllLinks(driver):\n",
    "    links = []\n",
    "    for page_num in range(1, 3):\n",
    "        print(f\"processing page {page_num}...\")\n",
    "        petfinder_url=f\"https://www.petfinder.com/search/dogs-for-adoption/us/va/centreville/?distance=Anywhere&page={page_num}\"\n",
    "        page_links = getPageLinks(driver, petfinder_url)\n",
    "        links = links + page_links\n",
    "        # slow down the request with random time so the website does not reject the request.\n",
    "        sleep_time = 10\n",
    "        print(f\"sleep for {sleep_time}\")\n",
    "        #sleep(sleep_time)\n",
    "    return links\n",
    "\n",
    "links = getAllLinks(chrome_driver)\n",
    "\n",
    "print(\"total pages processed \", len(links))\n",
    "chrome_driver.close()"
   ]
  },
  {
   "cell_type": "code",
   "execution_count": 38,
   "metadata": {},
   "outputs": [],
   "source": [
    "import pandas as pd\n",
    "\n",
    "pages_to_process = pd.DataFrame(links, columns=['page_url'])\n",
    "pages_to_process.to_pickle(\"pages_to_process.pickle\")\n"
   ]
  },
  {
   "cell_type": "code",
   "execution_count": 77,
   "metadata": {},
   "outputs": [
    {
     "ename": "NameError",
     "evalue": "name 'By' is not defined",
     "output_type": "error",
     "traceback": [
      "\u001b[0;31m---------------------------------------------------------------------------\u001b[0m",
      "\u001b[0;31mNameError\u001b[0m                                 Traceback (most recent call last)",
      "\u001b[0;32m<ipython-input-77-4afc1abf4eff>\u001b[0m in \u001b[0;36m<module>\u001b[0;34m\u001b[0m\n\u001b[1;32m     15\u001b[0m \u001b[0;32mtry\u001b[0m\u001b[0;34m:\u001b[0m\u001b[0;34m\u001b[0m\u001b[0;34m\u001b[0m\u001b[0m\n\u001b[1;32m     16\u001b[0m     element = WebDriverWait(driver, 10).until(\n\u001b[0;32m---> 17\u001b[0;31m         \u001b[0mEC\u001b[0m\u001b[0;34m.\u001b[0m\u001b[0mpresence_of_element_located\u001b[0m\u001b[0;34m(\u001b[0m\u001b[0;34m(\u001b[0m\u001b[0mBy\u001b[0m\u001b[0;34m.\u001b[0m\u001b[0mXPATH\u001b[0m\u001b[0;34m,\u001b[0m \u001b[0;34m\"//span[@data-test='Pet_Breeds']\"\u001b[0m\u001b[0;34m)\u001b[0m\u001b[0;34m)\u001b[0m\u001b[0;34m\u001b[0m\u001b[0;34m\u001b[0m\u001b[0m\n\u001b[0m\u001b[1;32m     18\u001b[0m     )\n\u001b[1;32m     19\u001b[0m \u001b[0;32mfinally\u001b[0m\u001b[0;34m:\u001b[0m\u001b[0;34m\u001b[0m\u001b[0;34m\u001b[0m\u001b[0m\n",
      "\u001b[0;31mNameError\u001b[0m: name 'By' is not defined"
     ]
    }
   ],
   "source": [
    "from selenium.webdriver.common.by import By\n",
    "from selenium.webdriver.support.ui import WebDriverWait\n",
    "from selenium.webdriver.support import expected_conditions as EC\n",
    "\n",
    "\n",
    "chrome_options = Options()  \n",
    "#chrome_options.add_argument(\"--headless\")  \n",
    "chrome_options.add_argument('--blink-settings=imagesEnabled=false')\n",
    "driver = webdriver.Chrome(\"/usr/local/bin/chromedriver\", options=chrome_options)\n",
    "\n",
    "#go to main page\n",
    "driver.get(\"https://www.petfinder.com/search/dogs-for-adoption/us/va/centreville/?distance=Anywhere\")\n",
    "urls = driver.find_elements_by_css_selector(\"a.petCard-link\")\n",
    "firstUrl = urls[0]\n",
    "firstUrl.click()\n",
    "try:\n",
    "    element = WebDriverWait(driver, 10).until(\n",
    "        EC.presence_of_element_located((By.XPATH, \"//span[@data-test='Pet_Breeds']\"))\n",
    "    )\n",
    "finally:\n",
    "    driver.quit()\n",
    "\n",
    "Pet_Breeds = driver.find_element_by_xpath(\"//span[@data-test='Pet_Breeds']\")\n",
    "Pet_Location = driver.find_element_by_xpath(\"//span[@data-test='Pet_Location']\") \n",
    "Pet_Name = driver.find_element_by_xpath(\"//span[@data-test='Pet_Name']\")\n",
    "Pet_Age= driver.find_element_by_xpath(\"//span[@data-test='Pet_Age']\")\n",
    "Pet_Sex= driver.find_element_by_xpath(\"//span[@data-test='Pet_Sex']\")\n",
    "Pet_Full_Grown_Size= driver.find_element_by_xpath(\"//span[@data-test='Pet_Full_Grown_Size']\")\n",
    "    \n",
    "    \n",
    "print(Pet_Breeds.text)\n",
    "print(Pet_Location.text)\n",
    "print(Pet_Name.text)\n",
    "print(Pet_Age.text)\n",
    "print(Pet_Sex.text)\n",
    "print(Pet_Full_Grown_Size.text)\n",
    "\n",
    "btns = driver.find_elements_by_xpath(\"//a[@class='pdpNav-inner-btn']\")\n",
    "print(btns)\n",
    "for btn in btns:\n",
    "    print(btn.get_attribute('href'))\n",
    "\n",
    "chrome_driver.close()"
   ]
  },
  {
   "cell_type": "code",
   "execution_count": null,
   "metadata": {},
   "outputs": [],
   "source": []
  },
  {
   "cell_type": "code",
   "execution_count": null,
   "metadata": {},
   "outputs": [],
   "source": [
    "\n"
   ]
  },
  {
   "cell_type": "code",
   "execution_count": null,
   "metadata": {},
   "outputs": [],
   "source": [
    "driver.close()\n"
   ]
  }
 ],
 "metadata": {
  "kernelspec": {
   "display_name": "Python 3",
   "language": "python",
   "name": "python3"
  },
  "language_info": {
   "codemirror_mode": {
    "name": "ipython",
    "version": 3
   },
   "file_extension": ".py",
   "mimetype": "text/x-python",
   "name": "python",
   "nbconvert_exporter": "python",
   "pygments_lexer": "ipython3",
   "version": "3.6.9"
  }
 },
 "nbformat": 4,
 "nbformat_minor": 4
}
